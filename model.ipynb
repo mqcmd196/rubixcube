{
 "cells": [
  {
   "cell_type": "code",
   "execution_count": null,
   "metadata": {},
   "outputs": [],
   "source": [
    "from OpenGL.GL import *\n",
    "from OpenGL.GLU import *\n",
    "from OpenGL.GLUT import *\n",
    "import sys"
   ]
  },
  {
   "cell_type": "code",
   "execution_count": null,
   "metadata": {},
   "outputs": [],
   "source": [
    "def init(width, height):\n",
    "    \"\"\" initialize \"\"\"\n",
    "    glClearColor(0.0, 0.0, 0.0, 1.0)\n",
    "    glEnable(GL_DEPTH_TEST) # enable shading\n",
    "    glMatrixMode(GL_PROJECTION)\n",
    "    glLoadIdentity()\n",
    "    ##set perspective\n",
    "    gluPerspective(45.0, float(width)/float(height), 0.1, 100.0)"
   ]
  },
  {
   "cell_type": "code",
   "execution_count": null,
   "metadata": {},
   "outputs": [],
   "source": [
    "def display():\n",
    "    \"\"\" display \"\"\"\n",
    "    glClear(GL_COLOR_BUFFER_BIT | GL_DEPTH_BUFFER_BIT)\n",
    "    glMatrixMode(GL_MODELVIEW)\n",
    "    glLoadIdentity()\n",
    "    ##set camera\n",
    "    gluLookAt(0.0, 1.0, 5.0, 0.0, 0.0, 0.0, 0.0, 1.0, 0.0)\n",
    "    ##draw a teapot\n",
    "    glColor3f(1.0, 0.0, 0.0)\n",
    "    # glutWireTeapot(1.0)   # wireframe\n",
    "    glutSolidTeapot(1.0)  # solid\n",
    "    glFlush()  # enforce OpenGL command"
   ]
  },
  {
   "cell_type": "code",
   "execution_count": null,
   "metadata": {},
   "outputs": [],
   "source": [
    "def reshape(width, height):\n",
    "    \"\"\"callback function resize window\"\"\"\n",
    "    glViewport(0, 0, width, height)\n",
    "    glMatrixMode(GL_PROJECTION)\n",
    "    glLoadIdentity()\n",
    "    gluPerspective(45.0, float(width)/float(height), 0.1, 100.0)\n",
    "    glMatrixMode(GL_MODELVIEW)"
   ]
  },
  {
   "cell_type": "code",
   "execution_count": null,
   "metadata": {},
   "outputs": [],
   "source": [
    "def keyboard(key, x, y):\n",
    "    if (key == 27):\n",
    "        sys.exit()"
   ]
  },
  {
   "cell_type": "code",
   "execution_count": null,
   "metadata": {},
   "outputs": [],
   "source": [
    "def main():\n",
    "    glutInit(sys.argv)\n",
    "    glutInitDisplayMode(GLUT_RGB | GLUT_SINGLE | GLUT_DEPTH)\n",
    "    glutInitWindowSize(300, 300)     # window size\n",
    "    glutInitWindowPosition(100, 100) # window position\n",
    "    glutCreateWindow(b\"teapot\")      # show window\n",
    "    init(300, 300)\n",
    "    glutDisplayFunc(display)         # draw callback function\n",
    "    glutReshapeFunc(reshape)         # resize callback function\n",
    "    glutKeyboardFunc(keyboard)\n",
    "    glutMainLoop()"
   ]
  },
  {
   "cell_type": "code",
   "execution_count": null,
   "metadata": {},
   "outputs": [],
   "source": []
  },
  {
   "cell_type": "code",
   "execution_count": null,
   "metadata": {},
   "outputs": [],
   "source": [
    "if __name__ == '__main__':\n",
    "    main()"
   ]
  },
  {
   "cell_type": "code",
   "execution_count": null,
   "metadata": {},
   "outputs": [],
   "source": []
  },
  {
   "cell_type": "code",
   "execution_count": null,
   "metadata": {},
   "outputs": [],
   "source": []
  },
  {
   "cell_type": "code",
   "execution_count": null,
   "metadata": {},
   "outputs": [],
   "source": []
  }
 ],
 "metadata": {
  "kernelspec": {
   "display_name": "Python 3",
   "language": "python",
   "name": "python3"
  },
  "language_info": {
   "codemirror_mode": {
    "name": "ipython",
    "version": 3
   },
   "file_extension": ".py",
   "mimetype": "text/x-python",
   "name": "python",
   "nbconvert_exporter": "python",
   "pygments_lexer": "ipython3",
   "version": "3.6.7"
  }
 },
 "nbformat": 4,
 "nbformat_minor": 2
}
